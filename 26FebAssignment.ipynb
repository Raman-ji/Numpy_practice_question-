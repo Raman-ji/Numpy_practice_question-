{
 "cells": [
  {
   "cell_type": "code",
   "execution_count": 26,
   "id": "ac84c779-f55e-4731-bd10-795dcef193bb",
   "metadata": {},
   "outputs": [],
   "source": [
    "\"\"\"Consider the below code to answer further questions:\"\"\"\n",
    "import numpy as np\n",
    "list_ = ['1' , '2' ,'3' , '4' , '5' ]\n",
    "array_list = np.array(object = list_)"
   ]
  },
  {
   "cell_type": "code",
   "execution_count": 27,
   "id": "fbe7cbfb-008e-4747-8c86-baa3cd8a5c10",
   "metadata": {},
   "outputs": [
    {
     "name": "stdout",
     "output_type": "stream",
     "text": [
      "Data type for list_\n",
      "<class 'list'>\n",
      "\n",
      " Data type for array_list is \n",
      "<class 'numpy.ndarray'>\n"
     ]
    }
   ],
   "source": [
    "\"\"\"Q1. Is there any difference in the data type of variables list_ and array_list? If there is then write a code\n",
    "to print the data types of both the variables.\n",
    "Answer:- Yes there is difference in list_ variable there is a list which can contains elements of different type.\n",
    "In this case the element of list_ are string \n",
    "In array_list is a numpy array created from the list_ variable and we know numpy arrays can contain only the element of the same data type \"\"\"\n",
    "print(\"Data type for list_\")\n",
    "print(type(list_))\n",
    "print(\"\\n Data type for array_list is \")\n",
    "print(type(array_list))"
   ]
  },
  {
   "cell_type": "code",
   "execution_count": 28,
   "id": "81f88785-3b26-4347-bb6a-8f5401e59397",
   "metadata": {},
   "outputs": [
    {
     "name": "stdout",
     "output_type": "stream",
     "text": [
      "Data type for variables list_\n",
      "<class 'str'>\n",
      "<class 'str'>\n",
      "<class 'str'>\n",
      "<class 'str'>\n",
      "<class 'str'>\n",
      "\n",
      " Data type for array_list\n",
      "<class 'numpy.str_'>\n",
      "<class 'numpy.str_'>\n",
      "<class 'numpy.str_'>\n",
      "<class 'numpy.str_'>\n",
      "<class 'numpy.str_'>\n"
     ]
    }
   ],
   "source": [
    "\"\"\"Q2. Write a code to print the data type of each and every element of both the variables list_ and\n",
    "arra_list.\"\"\"\n",
    "print(\"Data type for variables list_\")\n",
    "for i in list_:\n",
    "    print(type(i))\n",
    "\n",
    "print(\"\\n Data type for array_list\")\n",
    "for i in array_list:\n",
    "    print(type(i))"
   ]
  },
  {
   "cell_type": "code",
   "execution_count": 32,
   "id": "e81b0117-d4f6-4339-a40e-31e126c28b46",
   "metadata": {},
   "outputs": [
    {
     "name": "stdout",
     "output_type": "stream",
     "text": [
      "data type of list_ elements\n",
      "\n",
      "<class 'str'>\n",
      "<class 'str'>\n",
      "<class 'str'>\n",
      "<class 'str'>\n",
      "<class 'str'>\n",
      "\n",
      "data type of array_list elements\n",
      "\n",
      "<class 'numpy.int64'>\n",
      "<class 'numpy.int64'>\n",
      "<class 'numpy.int64'>\n",
      "<class 'numpy.int64'>\n",
      "<class 'numpy.int64'>\n"
     ]
    }
   ],
   "source": [
    "\"\"\"Q3. Considering the following changes in the variable, array_list:\n",
    "array_list = np.array(object = list_, dtype = int)\n",
    "Will there be any difference in the data type of the elements present in both the variables, list_ and\n",
    "arra_list? If so then print the data types of each and every element present in both the variables, list_\n",
    "and arra_list.\"\"\"\n",
    "array_list=np.array(object=list_, dtype=int)\n",
    "\"\"\"yes there is a difference because in the list_ elements all are was a string now those elements become a integer variable in array_list.\"\"\"\n",
    "print(\"data type of list_ elements\\n\")\n",
    "for i in list_:\n",
    "    print(type(i))\n",
    "print(\"\\ndata type of array_list elements\\n\")\n",
    "\n",
    "for i in array_list:\n",
    "    print(type(i))"
   ]
  },
  {
   "cell_type": "code",
   "execution_count": 33,
   "id": "76fb9507-a6ef-4154-a5f8-5f42a9a81b58",
   "metadata": {},
   "outputs": [],
   "source": [
    "\"\"\"Consider the below code to answer further questions:\n",
    "import numpy as np\n",
    "num_list = [ [ 1 , 2 , 3 ] , [ 4 , 5 , 6 ] ]\n",
    "num_array = np.array(object = num_list)\"\"\"\n",
    "import numpy as np\n",
    "num_list=[[1,2,3],[4,5,6]]\n",
    "num_array=np.array(object=num_list)"
   ]
  },
  {
   "cell_type": "code",
   "execution_count": 36,
   "id": "cebf1d27-63ae-4108-9c6d-17bb84690669",
   "metadata": {},
   "outputs": [
    {
     "name": "stdout",
     "output_type": "stream",
     "text": [
      "Shape\n",
      "\n",
      "(2, 3)\n",
      "\n",
      " Size:\n",
      "\n",
      "6\n"
     ]
    }
   ],
   "source": [
    "\"\"\"Q4. Write a code to find the following characteristics of variable, num_array:\n",
    "(i) shape\n",
    "(ii) size\"\"\"\n",
    "print(\"Shape\\n\")\n",
    "print(num_array.shape)\n",
    "print(\"\\n Size:\\n\")\n",
    "print(np.size(num_array))"
   ]
  },
  {
   "cell_type": "code",
   "execution_count": 39,
   "id": "7ba5699c-e079-44fb-916b-fd6f90682e6d",
   "metadata": {},
   "outputs": [
    {
     "data": {
      "text/plain": [
       "array([[0., 0., 0.],\n",
       "       [0., 0., 0.],\n",
       "       [0., 0., 0.]])"
      ]
     },
     "execution_count": 39,
     "metadata": {},
     "output_type": "execute_result"
    }
   ],
   "source": [
    "\"\"\" Q5. Write a code to create numpy array of 3*3 matrix containing zeros only, using a numpy array\n",
    "creation function.\n",
    "\"\"\"\n",
    "np.zeros((3,3))"
   ]
  },
  {
   "cell_type": "code",
   "execution_count": 40,
   "id": "033e16ab-9e95-489a-90e6-676cf8034519",
   "metadata": {},
   "outputs": [
    {
     "ename": "TypeError",
     "evalue": "'tuple' object cannot be interpreted as an integer",
     "output_type": "error",
     "traceback": [
      "\u001b[0;31m---------------------------------------------------------------------------\u001b[0m",
      "\u001b[0;31mTypeError\u001b[0m                                 Traceback (most recent call last)",
      "Cell \u001b[0;32mIn[40], line 3\u001b[0m\n\u001b[1;32m      1\u001b[0m \u001b[38;5;124;03m\"\"\"Q6. Create an identity matrix of shape (5,5) using numpy functions?\u001b[39;00m\n\u001b[1;32m      2\u001b[0m \u001b[38;5;124;03m[Hint: An identity matrix is a matrix containing 1 diagonally and other elements will be 0.]\"\"\"\u001b[39;00m\n\u001b[0;32m----> 3\u001b[0m \u001b[43mnp\u001b[49m\u001b[38;5;241;43m.\u001b[39;49m\u001b[43meye\u001b[49m\u001b[43m(\u001b[49m\u001b[43m(\u001b[49m\u001b[38;5;241;43m5\u001b[39;49m\u001b[43m,\u001b[49m\u001b[38;5;241;43m5\u001b[39;49m\u001b[43m)\u001b[49m\u001b[43m)\u001b[49m\n",
      "File \u001b[0;32m/opt/conda/lib/python3.10/site-packages/numpy/lib/twodim_base.py:215\u001b[0m, in \u001b[0;36meye\u001b[0;34m(N, M, k, dtype, order, like)\u001b[0m\n\u001b[1;32m    213\u001b[0m \u001b[38;5;28;01mif\u001b[39;00m M \u001b[38;5;129;01mis\u001b[39;00m \u001b[38;5;28;01mNone\u001b[39;00m:\n\u001b[1;32m    214\u001b[0m     M \u001b[38;5;241m=\u001b[39m N\n\u001b[0;32m--> 215\u001b[0m m \u001b[38;5;241m=\u001b[39m \u001b[43mzeros\u001b[49m\u001b[43m(\u001b[49m\u001b[43m(\u001b[49m\u001b[43mN\u001b[49m\u001b[43m,\u001b[49m\u001b[43m \u001b[49m\u001b[43mM\u001b[49m\u001b[43m)\u001b[49m\u001b[43m,\u001b[49m\u001b[43m \u001b[49m\u001b[43mdtype\u001b[49m\u001b[38;5;241;43m=\u001b[39;49m\u001b[43mdtype\u001b[49m\u001b[43m,\u001b[49m\u001b[43m \u001b[49m\u001b[43morder\u001b[49m\u001b[38;5;241;43m=\u001b[39;49m\u001b[43morder\u001b[49m\u001b[43m)\u001b[49m\n\u001b[1;32m    216\u001b[0m \u001b[38;5;28;01mif\u001b[39;00m k \u001b[38;5;241m>\u001b[39m\u001b[38;5;241m=\u001b[39m M:\n\u001b[1;32m    217\u001b[0m     \u001b[38;5;28;01mreturn\u001b[39;00m m\n",
      "\u001b[0;31mTypeError\u001b[0m: 'tuple' object cannot be interpreted as an integer"
     ]
    }
   ],
   "source": [
    "\"\"\"Q6. Create an identity matrix of shape (5,5) using numpy functions?\n",
    "[Hint: An identity matrix is a matrix containing 1 diagonally and other elements will be 0.]\"\"\"\n",
    "np."
   ]
  },
  {
   "cell_type": "code",
   "execution_count": null,
   "id": "f3b65ead-7d83-40d3-bdce-d6aff4c2393d",
   "metadata": {},
   "outputs": [],
   "source": []
  }
 ],
 "metadata": {
  "kernelspec": {
   "display_name": "Python 3 (ipykernel)",
   "language": "python",
   "name": "python3"
  },
  "language_info": {
   "codemirror_mode": {
    "name": "ipython",
    "version": 3
   },
   "file_extension": ".py",
   "mimetype": "text/x-python",
   "name": "python",
   "nbconvert_exporter": "python",
   "pygments_lexer": "ipython3",
   "version": "3.10.8"
  }
 },
 "nbformat": 4,
 "nbformat_minor": 5
}
